{
 "cells": [
  {
   "cell_type": "code",
   "execution_count": null,
   "metadata": {},
   "outputs": [],
   "source": [
    "import yfinance as yf\n",
    "from ssk import ssk\n",
    "from score import get_scores_df\n",
    "import pandas as pd\n",
    "from stocksymbol import StockSymbol\n",
    "from returns import get_monthly_adjusted_price\n",
    "from pairs import get_pair_distance"
   ]
  },
  {
   "cell_type": "code",
   "execution_count": null,
   "metadata": {},
   "outputs": [],
   "source": [
    "ssm = StockSymbol(ssk)\n",
    "\n",
    "# Get tickers of companies listed in NASDAQ\n",
    "symbol_list = ssm.get_symbol_list(market=\"US\")\n",
    "nasdaq_list = [x['symbol'] for x in symbol_list if x['exchange'] == 'NASDAQ']\n",
    "\n",
    "# Randomly sample 100 of them\n",
    "nasdaq_list = list(pd.Series(nasdaq_list).sample(100, random_state=1))"
   ]
  },
  {
   "cell_type": "code",
   "execution_count": null,
   "metadata": {},
   "outputs": [],
   "source": [
    "# Get the adjusted prices and scores\n",
    "\n",
    "monthly_adjusted_price = get_monthly_adjusted_price(ticker_list=nasdaq_list, start_year = 2009)\n",
    "monthly_adjusted_price.to_csv(\"monthly adjusted price.csv\", index=False)\n",
    "\n",
    "fundamental_scores = get_scores_df(ticker_list=nasdaq_list)\n",
    "fundamental_scores.to_csv(\"fundamental scores.csv\", index=False)"
   ]
  },
  {
   "cell_type": "code",
   "execution_count": null,
   "metadata": {},
   "outputs": [],
   "source": [
    "get_pair_distance(fundamental_scores)"
   ]
  }
 ],
 "metadata": {
  "kernelspec": {
   "display_name": "base",
   "language": "python",
   "name": "python3"
  },
  "language_info": {
   "codemirror_mode": {
    "name": "ipython",
    "version": 3
   },
   "file_extension": ".py",
   "mimetype": "text/x-python",
   "name": "python",
   "nbconvert_exporter": "python",
   "pygments_lexer": "ipython3",
   "version": "3.8.8"
  },
  "orig_nbformat": 4,
  "vscode": {
   "interpreter": {
    "hash": "9ee0ec614d0abf57fdc8a4c4d1b373279e4d39776338528fabf72ad422f0613a"
   }
  }
 },
 "nbformat": 4,
 "nbformat_minor": 2
}
