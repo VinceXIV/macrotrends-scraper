{
 "cells": [
  {
   "cell_type": "code",
   "execution_count": 1,
   "metadata": {},
   "outputs": [],
   "source": [
    "import yfinance as yf\n",
    "from ssk import ssk\n",
    "from score import get_scores_df\n",
    "import pandas as pd\n",
    "from stocksymbol import StockSymbol\n",
    "from returns import get_monthly_adjusted_price\n",
    "from pairs import get_pair_distance"
   ]
  },
  {
   "cell_type": "code",
   "execution_count": 2,
   "metadata": {},
   "outputs": [],
   "source": [
    "ssm = StockSymbol(ssk)\n",
    "\n",
    "# Get tickers of companies listed in NASDAQ\n",
    "symbol_list = ssm.get_symbol_list(market=\"US\")\n",
    "nasdaq_list = [x['symbol'] for x in symbol_list if x['exchange'] == 'NASDAQ']\n",
    "\n",
    "# Randomly sample 100 of them\n",
    "nasdaq_list = list(pd.Series(nasdaq_list).sample(100, random_state=1))"
   ]
  },
  {
   "cell_type": "code",
   "execution_count": 3,
   "metadata": {},
   "outputs": [
    {
     "name": "stdout",
     "output_type": "stream",
     "text": [
      "          CPLP      PAGP      TATT      PCYO      WERN      LYFT      CPOP  \\\n",
      "year                                                                         \n",
      "2009  1.000000       NaN  1.000000  1.000000  1.000000       NaN       NaN   \n",
      "2010  1.216509  1.000000  0.570825  1.008009  1.216247       NaN       NaN   \n",
      "2011  1.404927  1.064082  0.774223  1.001670  1.447323       NaN       NaN   \n",
      "2012  0.910473  1.124663  1.043000  0.507213  1.451670       NaN       NaN   \n",
      "2013  0.908259  1.137145  1.183221  1.083464  1.177294       NaN       NaN   \n",
      "2014  0.841575  1.216564  1.070111  1.122556  1.294267       NaN       NaN   \n",
      "2015  0.846965  1.490279  1.314823  0.879929  1.919930       NaN       NaN   \n",
      "2016  0.829709  1.471609  1.057343  1.080148  1.365603  1.000000       NaN   \n",
      "2017  0.770155  0.887026  1.155193  1.102068  1.990469  1.715065       NaN   \n",
      "2018  0.635641  1.646309  0.533036  1.135402  2.071311  1.660245  1.000000   \n",
      "2019  0.672602  1.574787  1.043867  1.181483  2.220731  2.211270  1.527705   \n",
      "2020  0.851520  0.699412  0.579572  1.200718  2.476013  2.356540  1.170879   \n",
      "2021  1.088543  1.012065  0.664458  1.340676  3.000000  2.609863  1.388287   \n",
      "2022  1.073167  1.063415  0.777389  1.234302  2.510295  2.569201  0.584686   \n",
      "2023       NaN       NaN       NaN       NaN       NaN       NaN       NaN   \n",
      "\n",
      "          EDTK     IMKTA      PLMR  ...      SYNH      DAKT       HQY  \\\n",
      "year                                ...                                 \n",
      "2009       NaN  1.000000       NaN  ...       NaN  1.000000       NaN   \n",
      "2010       NaN  0.967414       NaN  ...       NaN  0.401671       NaN   \n",
      "2011       NaN  0.982927       NaN  ...  1.000000  0.778812       NaN   \n",
      "2012       NaN  1.007428       NaN  ...  1.055833  0.605408       NaN   \n",
      "2013       NaN  0.987957       NaN  ...  1.539026  0.859654  1.000000   \n",
      "2014       NaN  1.040830       NaN  ...  1.672508  0.863823  0.769641   \n",
      "2015       NaN  1.257630       NaN  ...  2.600555  0.783186  1.080943   \n",
      "2016       NaN  1.189186       NaN  ...  2.459719  0.459297  1.137009   \n",
      "2017       NaN  1.129416  1.000000  ...  0.938915  0.620641  1.254631   \n",
      "2018  1.000000  1.232044  1.857339  ...  1.765359  0.544629  1.326244   \n",
      "2019  1.014003  1.306843  1.265484  ...  2.011452  0.395062  1.483213   \n",
      "2020  1.082062  2.220088  0.759631  ...  2.263082  0.423553  1.141825   \n",
      "2021  0.703465  2.690564  2.015379  ...  2.376900  0.672259  0.930485   \n",
      "2022  0.379310  2.653795  2.038780  ...  2.453523  0.434516  0.642929   \n",
      "2023       NaN       NaN       NaN  ...       NaN       NaN  0.815433   \n",
      "\n",
      "          COHR      UNAM       UAL      NTGR        EA       XOS      EXLS  \n",
      "year                                                                        \n",
      "2009  1.000000  1.000000  1.000000  1.000000  1.000000       NaN  1.000000  \n",
      "2010  0.983894  0.985054  1.076815  1.267517  0.939936       NaN  0.936840  \n",
      "2011  1.226776  1.043324  1.080317  1.370008  1.209273       NaN  1.034674  \n",
      "2012  1.077126  0.979454  0.997847  1.338362  1.465921       NaN  1.108201  \n",
      "2013  0.984759  0.939372  1.062092  1.195236  1.550440       NaN  1.167091  \n",
      "2014  0.756537  0.948103  1.103596  1.101674  1.477064       NaN  0.696125  \n",
      "2015  0.922739  0.869469  1.354672  1.198424  2.005835       NaN  0.971680  \n",
      "2016  0.936505  0.864440  1.214337  1.353361  2.037814       NaN  0.939381  \n",
      "2017  1.017357  0.651490  1.194625  1.026092  2.087595       NaN  0.891130  \n",
      "2018  1.039765  0.815886  1.179134  0.916008  2.136445       NaN  0.725687  \n",
      "2019  1.045312  0.820710  1.241355  0.993301  1.990967       NaN  1.053659  \n",
      "2020  0.460953  0.347775  0.451557  1.187680  2.539279  1.000000  1.376826  \n",
      "2021  1.280165  0.762800  0.972832  1.138738  1.937775  0.945599  1.548334  \n",
      "2022  1.125215       NaN  1.102752  0.456670  1.956283  0.945599  1.582607  \n",
      "2023       NaN       NaN       NaN       NaN  2.003805       NaN       NaN  \n",
      "\n",
      "[15 rows x 41 columns]\n"
     ]
    }
   ],
   "source": [
    "# Get the adjusted prices and scores\n",
    "\n",
    "monthly_adjusted_price = get_monthly_adjusted_price(ticker_list=nasdaq_list, start_year = 2009)\n",
    "monthly_adjusted_price.to_csv(\"monthly adjusted price.csv\", index=False)\n",
    "\n",
    "fundamental_scores = get_scores_df(ticker_list=nasdaq_list)\n",
    "fundamental_scores.to_csv(\"fundamental scores.csv\", index=False)"
   ]
  },
  {
   "cell_type": "code",
   "execution_count": 7,
   "metadata": {},
   "outputs": [],
   "source": [
    "# Closest pairs by price movement\n",
    "\n",
    "price_pairs = get_pair_distance(monthly_adjusted_price)\n",
    "fundamental_pairs = get_pair_distance(fundamental_scores)\n",
    "\n",
    "price_pairs.to_csv(\"price pairs.csv\")\n",
    "fundamental_pairs.to_csv(\"fundamental pairs.csv\")"
   ]
  }
 ],
 "metadata": {
  "kernelspec": {
   "display_name": "base",
   "language": "python",
   "name": "python3"
  },
  "language_info": {
   "codemirror_mode": {
    "name": "ipython",
    "version": 3
   },
   "file_extension": ".py",
   "mimetype": "text/x-python",
   "name": "python",
   "nbconvert_exporter": "python",
   "pygments_lexer": "ipython3",
   "version": "3.8.8"
  },
  "orig_nbformat": 4,
  "vscode": {
   "interpreter": {
    "hash": "9ee0ec614d0abf57fdc8a4c4d1b373279e4d39776338528fabf72ad422f0613a"
   }
  }
 },
 "nbformat": 4,
 "nbformat_minor": 2
}
