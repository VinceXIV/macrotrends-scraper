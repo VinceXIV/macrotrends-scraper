{
 "cells": [
  {
   "cell_type": "code",
   "execution_count": 1,
   "metadata": {},
   "outputs": [],
   "source": [
    "import yfinance as yf\n",
    "from ssk import ssk\n",
    "from score import get_scores_df\n",
    "import pandas as pd\n",
    "from stocksymbol import StockSymbol\n",
    "from returns import get_monthly_adjusted_price"
   ]
  },
  {
   "cell_type": "code",
   "execution_count": 2,
   "metadata": {},
   "outputs": [],
   "source": [
    "ssm = StockSymbol(ssk)\n",
    "\n",
    "# Get tickers of companies listed in NASDAQ\n",
    "symbol_list = ssm.get_symbol_list(market=\"US\")\n",
    "nasdaq_list = [x['symbol'] for x in symbol_list if x['exchange'] == 'NASDAQ']\n",
    "\n",
    "# Randomly sample 100 of them\n",
    "nasdaq_list = list(pd.Series(nasdaq_list).sample(100, random_state=1))"
   ]
  },
  {
   "cell_type": "code",
   "execution_count": 3,
   "metadata": {},
   "outputs": [
    {
     "name": "stdout",
     "output_type": "stream",
     "text": [
      "\n",
      "1 Failed download:\n",
      "- CCXI: No timezone found, symbol may be delisted\n",
      "\n",
      "1 Failed download:\n",
      "- OHPAU: No timezone found, symbol may be delisted\n",
      "\n",
      "1 Failed download:\n",
      "- SYNL: No timezone found, symbol may be delisted\n",
      "\n",
      "1 Failed download:\n",
      "- COLI: No timezone found, symbol may be delisted\n",
      "\n",
      "1 Failed download:\n",
      "- EMCF: No timezone found, symbol may be delisted\n",
      "\n",
      "1 Failed download:\n",
      "- CYBE: No timezone found, symbol may be delisted\n",
      "\n",
      "1 Failed download:\n",
      "- SCMA: No timezone found, symbol may be delisted\n",
      "\n",
      "1 Failed download:\n",
      "- OBAS: No timezone found, symbol may be delisted\n",
      "\n",
      "1 Failed download:\n",
      "- ZEST: No timezone found, symbol may be delisted\n",
      "\n",
      "1 Failed download:\n",
      "- SDH: No timezone found, symbol may be delisted\n",
      "\n",
      "1 Failed download:\n",
      "- HGSH: No timezone found, symbol may be delisted\n",
      "\n",
      "1 Failed download:\n",
      "- CCNC: No timezone found, symbol may be delisted\n",
      "\n",
      "1 Failed download:\n",
      "- HYAC: No timezone found, symbol may be delisted\n"
     ]
    }
   ],
   "source": [
    "# Get the adjusted prices and scores\n",
    "\n",
    "monthly_adjusted_price = get_monthly_adjusted_price(ticker_list=nasdaq_list, start_year = 2009)\n",
    "monthly_adjusted_price.to_csv(\"monthly adjusted price.csv\")\n",
    "\n",
    "fundamental_scores = get_scores_df(ticker_list=nasdaq_list)\n",
    "fundamental_scores.to_csv(\"fundamental scores.csv\")"
   ]
  },
  {
   "cell_type": "code",
   "execution_count": null,
   "metadata": {},
   "outputs": [],
   "source": []
  }
 ],
 "metadata": {
  "kernelspec": {
   "display_name": "base",
   "language": "python",
   "name": "python3"
  },
  "language_info": {
   "codemirror_mode": {
    "name": "ipython",
    "version": 3
   },
   "file_extension": ".py",
   "mimetype": "text/x-python",
   "name": "python",
   "nbconvert_exporter": "python",
   "pygments_lexer": "ipython3",
   "version": "3.8.8"
  },
  "orig_nbformat": 4,
  "vscode": {
   "interpreter": {
    "hash": "9ee0ec614d0abf57fdc8a4c4d1b373279e4d39776338528fabf72ad422f0613a"
   }
  }
 },
 "nbformat": 4,
 "nbformat_minor": 2
}
