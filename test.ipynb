{
 "cells": [
  {
   "cell_type": "code",
   "execution_count": 1,
   "metadata": {},
   "outputs": [],
   "source": [
    "import yfinance as yf\n",
    "from ssk import ssk\n",
    "from score import get_scores_df\n",
    "import pandas as pd\n",
    "from stocksymbol import StockSymbol\n",
    "from returns import get_monthly_adjusted_price"
   ]
  },
  {
   "cell_type": "code",
   "execution_count": 2,
   "metadata": {},
   "outputs": [],
   "source": [
    "ssm = StockSymbol(ssk)\n",
    "\n",
    "# Get tickers of companies listed in NASDAQ\n",
    "symbol_list = ssm.get_symbol_list(market=\"US\")\n",
    "nasdaq_list = [x['symbol'] for x in symbol_list if x['exchange'] == 'NASDAQ']\n",
    "\n",
    "# Randomly sample 100 of them\n",
    "nasdaq_list = list(pd.Series(nasdaq_list).sample(100, random_state=1))"
   ]
  },
  {
   "cell_type": "code",
   "execution_count": 3,
   "metadata": {},
   "outputs": [
    {
     "name": "stdout",
     "output_type": "stream",
     "text": [
      "          CPLP\n",
      "year          \n",
      "2009  1.000000\n",
      "2010  1.216509\n",
      "2011  1.404927\n",
      "2012  0.910473\n",
      "2013  0.908259\n",
      "2014  0.841575\n",
      "2015  0.846965\n",
      "2016  0.829709\n",
      "2017  0.770155\n",
      "2018  0.635641\n",
      "2019  0.672602\n",
      "2020  0.851520\n",
      "2021  1.088543\n",
      "2022  1.073167\n"
     ]
    }
   ],
   "source": [
    "# Get the adjusted prices and scores\n",
    "\n",
    "monthly_adjusted_price = get_monthly_adjusted_price(ticker_list=nasdaq_list, start_year = 2009)\n",
    "monthly_adjusted_price.to_csv(\"monthly adjusted price.csv\", index=False)\n",
    "\n",
    "fundamental_scores = get_scores_df(ticker_list=nasdaq_list)\n",
    "fundamental_scores.to_csv(\"fundamental scores.csv\", index=False)"
   ]
  },
  {
   "cell_type": "code",
   "execution_count": 4,
   "metadata": {},
   "outputs": [],
   "source": [
    "scores = pd.read_csv(\"fundamental scores.csv\")\n",
    "adjusted_price = pd.read_csv(\"monthly adjusted price.csv\")"
   ]
  },
  {
   "cell_type": "code",
   "execution_count": 5,
   "metadata": {},
   "outputs": [],
   "source": [
    "adj_price_corr = adjusted_price.dropna(axis=1).corr()"
   ]
  },
  {
   "cell_type": "code",
   "execution_count": 6,
   "metadata": {},
   "outputs": [
    {
     "name": "stdout",
     "output_type": "stream",
     "text": [
      "          AGEN      CPLP\n",
      "AGEN  1.000000  0.203251\n",
      "CPLP  0.203251  1.000000\n"
     ]
    },
    {
     "data": {
      "text/plain": [
       "CPLP  AGEN    0.203251\n",
       "dtype: float64"
      ]
     },
     "execution_count": 6,
     "metadata": {},
     "output_type": "execute_result"
    }
   ],
   "source": [
    "from pairs import get_pair_distance\n",
    "get_pair_distance(monthly_adjusted_price)\n",
    "\n",
    "# monthly_adjusted_price[monthly_adjusted_price.index > (2010, 5)]"
   ]
  }
 ],
 "metadata": {
  "kernelspec": {
   "display_name": "base",
   "language": "python",
   "name": "python3"
  },
  "language_info": {
   "codemirror_mode": {
    "name": "ipython",
    "version": 3
   },
   "file_extension": ".py",
   "mimetype": "text/x-python",
   "name": "python",
   "nbconvert_exporter": "python",
   "pygments_lexer": "ipython3",
   "version": "3.8.8"
  },
  "orig_nbformat": 4,
  "vscode": {
   "interpreter": {
    "hash": "9ee0ec614d0abf57fdc8a4c4d1b373279e4d39776338528fabf72ad422f0613a"
   }
  }
 },
 "nbformat": 4,
 "nbformat_minor": 2
}
